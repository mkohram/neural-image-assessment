{
 "cells": [
  {
   "cell_type": "code",
   "execution_count": 1,
   "metadata": {},
   "outputs": [],
   "source": [
    "import numpy as np\n",
    "import argparse\n",
    "from path import Path\n",
    "import matplotlib.pyplot as plt\n",
    "import glob\n",
    "import subprocess\n",
    "import pickle\n",
    "import PIL as p\n",
    "import csv\n",
    "from utils.score_utils import mean_score, std_score\n",
    "\n",
    "import logging\n",
    "logging.basicConfig(level=logging.INFO, format='%(asctime)s - %(name)s - %(levelname)s - %(message)s')\n",
    "logger = logging.getLogger()\n",
    "\n",
    "doms = glob.glob(\"/nn-images/images_split_by_domain/domains/*\")"
   ]
  },
  {
   "cell_type": "code",
   "execution_count": 2,
   "metadata": {},
   "outputs": [
    {
     "name": "stdout",
     "output_type": "stream",
     "text": [
      "807324\n",
      "(807324, 10)\n"
     ]
    }
   ],
   "source": [
    "pickles = glob.glob('/nn-images/image_scores/*')\n",
    "counter = 0\n",
    "for p in pickles:\n",
    "    temp = pickle.load(open(p, \"rb\"))\n",
    "    tas, tp = temp\n",
    "    if counter == 0:\n",
    "        act_scores = tas\n",
    "        paths = tp\n",
    "    else:\n",
    "        act_scores = np.vstack((act_scores, tas))\n",
    "        paths += tp\n",
    "    counter += 1\n",
    "#scores = pickle.load(open(\"/nn-images/image_scores/scores.subset.pkl\", \"rb\"))\n",
    "print(len(paths))\n",
    "print(act_scores.shape)"
   ]
  },
  {
   "cell_type": "code",
   "execution_count": 3,
   "metadata": {},
   "outputs": [],
   "source": [
    "img_dct = pickle.load(open(\"image_dct.picke\", \"rb\"))"
   ]
  },
  {
   "cell_type": "code",
   "execution_count": 4,
   "metadata": {},
   "outputs": [],
   "source": [
    "ims = pickle.load(open(\"ims\", \"rb\"))"
   ]
  },
  {
   "cell_type": "code",
   "execution_count": 5,
   "metadata": {},
   "outputs": [],
   "source": [
    "influencer_mapping = pickle.load(open(\"influencer_mapping.pickle\", \"rb\"))\n",
    "rev_influencer_mapping = pickle.load(open(\"rev_influencer_mapping.pickle\", \"rb\"))"
   ]
  },
  {
   "cell_type": "code",
   "execution_count": 6,
   "metadata": {},
   "outputs": [],
   "source": [
    "def generate_scores(scores, paths, im):\n",
    "    std_dev_count = 0\n",
    "    xs_count = 0\n",
    "    ds_count = 0\n",
    "    \n",
    "    # final score dct\n",
    "    inf_scores = {}\n",
    "    score_dct = {}\n",
    "    dom_dct = {}\n",
    "    \n",
    "    # link scores to paths\n",
    "    for x in range(0, len(paths)):\n",
    "        score_dct[paths[x]] = mean_score(scores[x])\n",
    "    \n",
    "    # aggregate over domains\n",
    "    for k,v in score_dct.items():\n",
    "        d = img_dct[k] # get domain\n",
    "        if d not in dom_dct.keys(): # build list of scores\n",
    "            dom_dct[d] = [v]\n",
    "        else:\n",
    "            dom_dct[d].append(v)\n",
    "    \n",
    "    # build dictionaries of mean and stdev for each influencer\n",
    "    means = {k : np.mean(np.asarray(v)) for k,v in dom_dct.items()}\n",
    "    stdevs = {k : np.std(np.asarray(v)) for k,v in dom_dct.items()}\n",
    "    dom_list = list(dom_dct.keys())\n",
    "    \n",
    "    # remove scores below 3.5 and also outliers\n",
    "    for d in dom_list:\n",
    "        try:\n",
    "            infs = im[d] #get influencers tied to this domain\n",
    "            for inf in infs:\n",
    "                if inf not in inf_scores.keys():\n",
    "                    inf_scores[inf] = []\n",
    "                dscores = dom_dct[d]\n",
    "                for ds in dscores:\n",
    "                    top_cutoff = means[d] + 3*stdevs[d]\n",
    "                    bottom_cutoff = means[d] - 3*stdevs[d]\n",
    "                    if ds > 3.5:\n",
    "                        if ds < top_cutoff and ds > bottom_cutoff:\n",
    "                            ds_count += 1\n",
    "                            inf_scores[inf].append(ds)\n",
    "                        else:\n",
    "                            std_dev_count += 1\n",
    "                    else:\n",
    "                        xs_count += 1\n",
    "        except KeyError:\n",
    "            logger.info(f'KeyError with {d}')\n",
    "    r_list = [] # record domains to remove\n",
    "    for i in inf_scores.keys():\n",
    "        if len(inf_scores[i]) > 9:\n",
    "            inf_scores[i] = np.mean(np.asarray(inf_scores[i]))\n",
    "        else:\n",
    "            r_list.append(i)\n",
    "            logger.info(f'Below lengths limit for influencer {i}')\n",
    "    for r in r_list:\n",
    "        del inf_scores[r]\n",
    "    print(\"Stdev: \" + str(std_dev_count))\n",
    "    print(\"Xs count: \" + str(xs_count))\n",
    "    print(\"Ds count: \" + str(ds_count))\n",
    "    print(\"Number removed: \" + str(len(r_list)))\n",
    "    return inf_scores"
   ]
  },
  {
   "cell_type": "code",
   "execution_count": 7,
   "metadata": {},
   "outputs": [
    {
     "name": "stderr",
     "output_type": "stream",
     "text": [
      "2018-08-30 23:05:14,153 - root - INFO - Below lengths limit for influencer 3387\n",
      "2018-08-30 23:05:14,156 - root - INFO - Below lengths limit for influencer 9577\n",
      "2018-08-30 23:05:14,160 - root - INFO - Below lengths limit for influencer 7791\n",
      "2018-08-30 23:05:14,163 - root - INFO - Below lengths limit for influencer 602\n",
      "2018-08-30 23:05:14,169 - root - INFO - Below lengths limit for influencer 7320\n",
      "2018-08-30 23:05:14,174 - root - INFO - Below lengths limit for influencer 4020\n",
      "2018-08-30 23:05:14,178 - root - INFO - Below lengths limit for influencer 5802\n",
      "2018-08-30 23:05:14,181 - root - INFO - Below lengths limit for influencer 7874\n",
      "2018-08-30 23:05:14,183 - root - INFO - Below lengths limit for influencer 2748\n",
      "2018-08-30 23:05:14,184 - root - INFO - Below lengths limit for influencer 5831\n",
      "2018-08-30 23:05:14,188 - root - INFO - Below lengths limit for influencer 9736\n",
      "2018-08-30 23:05:14,189 - root - INFO - Below lengths limit for influencer 1341\n",
      "2018-08-30 23:05:14,193 - root - INFO - Below lengths limit for influencer 1556\n",
      "2018-08-30 23:05:14,194 - root - INFO - Below lengths limit for influencer 2819\n",
      "2018-08-30 23:05:14,203 - root - INFO - Below lengths limit for influencer 235\n",
      "2018-08-30 23:05:14,211 - root - INFO - Below lengths limit for influencer 5715\n",
      "2018-08-30 23:05:14,213 - root - INFO - Below lengths limit for influencer 7582\n",
      "2018-08-30 23:05:14,243 - root - INFO - Below lengths limit for influencer 5853\n",
      "2018-08-30 23:05:14,244 - root - INFO - Below lengths limit for influencer 7709\n",
      "2018-08-30 23:05:14,248 - root - INFO - Below lengths limit for influencer 4936\n",
      "2018-08-30 23:05:14,249 - root - INFO - Below lengths limit for influencer 2934\n",
      "2018-08-30 23:05:14,254 - root - INFO - Below lengths limit for influencer 5194\n",
      "2018-08-30 23:05:14,258 - root - INFO - Below lengths limit for influencer 3283\n",
      "2018-08-30 23:05:14,262 - root - INFO - Below lengths limit for influencer 7309\n",
      "2018-08-30 23:05:14,273 - root - INFO - Below lengths limit for influencer 2200\n",
      "2018-08-30 23:05:14,278 - root - INFO - Below lengths limit for influencer 1139\n",
      "2018-08-30 23:05:14,279 - root - INFO - Below lengths limit for influencer 8575\n",
      "2018-08-30 23:05:14,280 - root - INFO - Below lengths limit for influencer 6767\n",
      "2018-08-30 23:05:14,282 - root - INFO - Below lengths limit for influencer 3587\n",
      "2018-08-30 23:05:14,283 - root - INFO - Below lengths limit for influencer 4115\n",
      "2018-08-30 23:05:14,284 - root - INFO - Below lengths limit for influencer 5089\n",
      "2018-08-30 23:05:14,287 - root - INFO - Below lengths limit for influencer 4889\n",
      "2018-08-30 23:05:14,289 - root - INFO - Below lengths limit for influencer 3536\n",
      "2018-08-30 23:05:14,291 - root - INFO - Below lengths limit for influencer 2489\n",
      "2018-08-30 23:05:14,299 - root - INFO - Below lengths limit for influencer 5018\n",
      "2018-08-30 23:05:14,301 - root - INFO - Below lengths limit for influencer 4112\n",
      "2018-08-30 23:05:14,312 - root - INFO - Below lengths limit for influencer 5114\n",
      "2018-08-30 23:05:14,315 - root - INFO - Below lengths limit for influencer 593\n",
      "2018-08-30 23:05:14,315 - root - INFO - Below lengths limit for influencer 5050\n"
     ]
    },
    {
     "name": "stdout",
     "output_type": "stream",
     "text": [
      "Stdev: 3780\n",
      "Xs count: 41\n",
      "Ds count: 882508\n",
      "Number removed: 39\n"
     ]
    }
   ],
   "source": [
    "isc = generate_scores(act_scores, paths, influencer_mapping)"
   ]
  },
  {
   "cell_type": "code",
   "execution_count": 8,
   "metadata": {},
   "outputs": [],
   "source": [
    "sorted_isc = sorted((value, key) for (key,value) in isc.items())    "
   ]
  },
  {
   "cell_type": "code",
   "execution_count": 9,
   "metadata": {},
   "outputs": [
    {
     "data": {
      "text/plain": [
       "3823"
      ]
     },
     "execution_count": 9,
     "metadata": {},
     "output_type": "execute_result"
    }
   ],
   "source": [
    "len(sorted_isc)"
   ]
  },
  {
   "cell_type": "code",
   "execution_count": 10,
   "metadata": {},
   "outputs": [
    {
     "data": {
      "text/plain": [
       "[(5.0528446145137424, 3947),\n",
       " (5.054275616781389, 174),\n",
       " (5.056422968927238, 3053),\n",
       " (5.056815907087487, 7851),\n",
       " (5.057553495618736, 2585),\n",
       " (5.062419893918559, 2228),\n",
       " (5.063394090011051, 5427),\n",
       " (5.064443601115437, 5746),\n",
       " (5.064739122736053, 9163),\n",
       " (5.06501833881474, 3471)]"
      ]
     },
     "execution_count": 10,
     "metadata": {},
     "output_type": "execute_result"
    }
   ],
   "source": [
    "sorted_isc[100:110]"
   ]
  },
  {
   "cell_type": "code",
   "execution_count": 11,
   "metadata": {},
   "outputs": [],
   "source": [
    "val_i = rev_influencer_mapping[174][0]\n",
    "counter = 0"
   ]
  },
  {
   "cell_type": "code",
   "execution_count": 12,
   "metadata": {},
   "outputs": [
    {
     "name": "stdout",
     "output_type": "stream",
     "text": [
      "59\n"
     ]
    }
   ],
   "source": [
    "imgs = glob.glob('/nn-images/images_split_by_domain/domains/' + val_i + '/*')\n",
    "print(len(imgs))"
   ]
  },
  {
   "cell_type": "code",
   "execution_count": 13,
   "metadata": {},
   "outputs": [
    {
     "ename": "AttributeError",
     "evalue": "'str' object has no attribute 'Image'",
     "output_type": "error",
     "traceback": [
      "\u001b[0;31m---------------------------------------------------------------------------\u001b[0m",
      "\u001b[0;31mAttributeError\u001b[0m                            Traceback (most recent call last)",
      "\u001b[0;32m<ipython-input-13-b3f3d35224ea>\u001b[0m in \u001b[0;36m<module>\u001b[0;34m()\u001b[0m\n\u001b[1;32m      1\u001b[0m \u001b[0mcounter\u001b[0m \u001b[0;34m+=\u001b[0m \u001b[0;36m1\u001b[0m\u001b[0;34m\u001b[0m\u001b[0m\n\u001b[0;32m----> 2\u001b[0;31m \u001b[0mp\u001b[0m\u001b[0;34m.\u001b[0m\u001b[0mImage\u001b[0m\u001b[0;34m.\u001b[0m\u001b[0mopen\u001b[0m\u001b[0;34m(\u001b[0m\u001b[0mimgs\u001b[0m\u001b[0;34m[\u001b[0m\u001b[0mcounter\u001b[0m\u001b[0;34m]\u001b[0m\u001b[0;34m)\u001b[0m\u001b[0;34m\u001b[0m\u001b[0m\n\u001b[0m",
      "\u001b[0;31mAttributeError\u001b[0m: 'str' object has no attribute 'Image'"
     ]
    }
   ],
   "source": [
    "counter += 1\n",
    "p.Image.open(imgs[counter])"
   ]
  },
  {
   "cell_type": "code",
   "execution_count": 14,
   "metadata": {},
   "outputs": [],
   "source": [
    "import pandas as pd\n",
    "df = pd.DataFrame(sorted_isc, columns=['score', 'influencer_id'])\n",
    "df.loc[:, 'score'] = df.loc[:, 'score'].rank(pct=True) * 100\n",
    "df.to_csv('csv_file', header=False, index=False, columns=['influencer_id', 'score'])"
   ]
  },
  {
   "cell_type": "code",
   "execution_count": null,
   "metadata": {},
   "outputs": [],
   "source": []
  }
 ],
 "metadata": {
  "kernelspec": {
   "display_name": "Python 3",
   "language": "python",
   "name": "python3"
  },
  "language_info": {
   "codemirror_mode": {
    "name": "ipython",
    "version": 3
   },
   "file_extension": ".py",
   "mimetype": "text/x-python",
   "name": "python",
   "nbconvert_exporter": "python",
   "pygments_lexer": "ipython3",
   "version": "3.6.6"
  }
 },
 "nbformat": 4,
 "nbformat_minor": 2
}
